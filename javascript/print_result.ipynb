{
 "cells": [
  {
   "cell_type": "code",
   "execution_count": 4,
   "metadata": {},
   "outputs": [],
   "source": [
    "def print_result(result):\n",
    "    nums = result.split(\" \")\n",
    "    for num in nums:\n",
    "        print(f\"<td>{num}</td>\")"
   ]
  },
  {
   "cell_type": "code",
   "execution_count": 5,
   "metadata": {},
   "outputs": [
    {
     "name": "stdout",
     "output_type": "stream",
     "text": [
      "<td>40.28</td>\n",
      "<td>46.13</td>\n",
      "<td>29.25</td>\n",
      "<td>47.45</td>\n",
      "<td>40.08</td>\n",
      "<td>33.66</td>\n",
      "<td>39.35</td>\n",
      "<td>40.67</td>\n",
      "<td>39.83</td>\n"
     ]
    }
   ],
   "source": [
    "# Random chance\n",
    "result = \"40.28 46.13 29.25 47.45 40.08 33.66 39.35 40.67 39.83\"\n",
    "print_result(result)"
   ]
  },
  {
   "cell_type": "code",
   "execution_count": 6,
   "metadata": {},
   "outputs": [
    {
     "name": "stdout",
     "output_type": "stream",
     "text": [
      "<td>90.23</td>\n",
      "<td>84.97</td>\n",
      "<td>87.48</td>\n",
      "<td>89.60</td>\n",
      "<td>87.50</td>\n",
      "<td>88.10</td>\n",
      "<td>91.59</td>\n",
      "<td>82.42</td>\n",
      "<td>88.40</td>\n"
     ]
    }
   ],
   "source": [
    "# Human\n",
    "result = \"90.23 84.97 87.48 89.60 87.50 88.10 91.59 82.42 88.40\"\n",
    "print_result(result)"
   ]
  },
  {
   "cell_type": "code",
   "execution_count": 7,
   "metadata": {},
   "outputs": [
    {
     "name": "stdout",
     "output_type": "stream",
     "text": [
      "<td>75.04</td>\n",
      "<td>66.59</td>\n",
      "<td>78.00</td>\n",
      "<td>74.24</td>\n",
      "<td>65.74</td>\n",
      "<td>79.58</td>\n",
      "<td>76.36</td>\n",
      "<td>69.87</td>\n",
      "<td>74.04</td>\n"
     ]
    }
   ],
   "source": [
    "# GPT-3 zero-shot QCM→A\n",
    "result = \"75.04 66.59 78.00 74.24 65.74 79.58 76.36 69.87 74.04\"\n",
    "print_result(result)"
   ]
  },
  {
   "cell_type": "code",
   "execution_count": 8,
   "metadata": {},
   "outputs": [
    {
     "name": "stdout",
     "output_type": "stream",
     "text": [
      "<td>74.64</td>\n",
      "<td>69.74</td>\n",
      "<td>76.00</td>\n",
      "<td>74.44</td>\n",
      "<td>67.28</td>\n",
      "<td>77.42</td>\n",
      "<td>76.80</td>\n",
      "<td>68.89</td>\n",
      "<td>73.97</td>\n"
     ]
    }
   ],
   "source": [
    "# GPT-3 2-shot QCM→A\n",
    "result = \"74.64 69.74 76.00 74.44 67.28 77.42 76.80 68.89 73.97\"\n",
    "print_result(result)"
   ]
  },
  {
   "cell_type": "code",
   "execution_count": 9,
   "metadata": {},
   "outputs": [
    {
     "name": "stdout",
     "output_type": "stream",
     "text": [
      "<td>76.60</td>\n",
      "<td>65.92</td>\n",
      "<td>77.55</td>\n",
      "<td>75.51</td>\n",
      "<td>66.09</td>\n",
      "<td>79.58</td>\n",
      "<td>78.49</td>\n",
      "<td>67.63</td>\n",
      "<td>74.61</td>\n"
     ]
    }
   ],
   "source": [
    "# GPT-3 (CoT) 2-shot QCM→AE\n",
    "result = \"76.60 65.92 77.55 75.51 66.09 79.58 78.49 67.63 74.61\"\n",
    "print_result(result)"
   ]
  },
  {
   "cell_type": "code",
   "execution_count": 10,
   "metadata": {},
   "outputs": [
    {
     "name": "stdout",
     "output_type": "stream",
     "text": [
      "<td>75.44</td>\n",
      "<td>70.87</td>\n",
      "<td>78.09</td>\n",
      "<td>74.68</td>\n",
      "<td>67.43</td>\n",
      "<td>79.93</td>\n",
      "<td>78.23</td>\n",
      "<td>69.68</td>\n",
      "<td>75.17</td>\n"
     ]
    }
   ],
   "source": [
    "# GPT-3 (CoT) 2-shot QCM→ALE\n",
    "result = \"75.44 70.87 78.09 74.68 67.43 79.93 78.23 69.68 75.17\"\n",
    "print_result(result)"
   ]
  }
 ],
 "metadata": {
  "kernelspec": {
   "display_name": "Python 3.9.1rc1 64-bit",
   "language": "python",
   "name": "python3"
  },
  "language_info": {
   "codemirror_mode": {
    "name": "ipython",
    "version": 3
   },
   "file_extension": ".py",
   "mimetype": "text/x-python",
   "name": "python",
   "nbconvert_exporter": "python",
   "pygments_lexer": "ipython3",
   "version": "3.9.1"
  },
  "orig_nbformat": 4,
  "vscode": {
   "interpreter": {
    "hash": "aee8b7b246df8f9039afb4144a1f6fd8d2ca17a180786b69acc140d282b71a49"
   }
  }
 },
 "nbformat": 4,
 "nbformat_minor": 2
}
